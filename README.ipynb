{
 "cells": [
  {
   "cell_type": "markdown",
   "source": [
    "# InPoDa (Projet LSIN304)\n",
    "\n",
    "## Groupe de TD : LDD-BI & INTD-04\n",
    "\n",
    "## Étudiants :\n",
    "\n",
    "* Alexandre François: [https://github.com/uvsq22201695](https://github.com/uvsq22201695)\n",
    "* Maël Fajon: [https://github.com/matronyme2](https://github.com/matronyme2)\n",
    "\n",
    "## Dépôt du projet GitHub :\n",
    "\n",
    "[https://github.com/uvsq22201695/projet_in304](https://github.com/uvsq22201695/projet_in304)\n",
    "\n",
    "## Introduction\n",
    "\n",
    "InPoDa est un programme Python qui permet d'analyser des données de tweets. Il permet de charger des données de tweets à partir d'un fichier JSON, de les analyser et d'afficher des statistiques sur ces données. Il permet aussi de télécharger des données de tweets qui ont été analysées par le programme.\n",
    "\n",
    "## Utilisation du programme\n",
    "\n",
    "Le programme se lance avec des données initiales (fichier `aitweets.json`). Il est possible de charger un autre fichier de données en utilisant l'option `Drop file  Here` dans l'interface puis en cliquant sur le bouton `Envoyez`. Chaque fichier sera vérifié avant d'être chargé. Si le fichier n'est pas valide, un message d'erreur s'affichera sous forme de pop-up. Sinon le fichier sera chargé et les données seront affichées dans l'interface avec une fenêtre pop-up de confirmation.\n",
    "\n",
    "Une fois les données chargées, il est possible de voir les statistiques de ces données en cliquant sur les différents boutons de l'interface. Les statistiques s'afficheront dans l'interface. Tout s'actualise en temps réel.\n",
    "\n",
    "De plus vous pouvez télécharger les données analysées en cliquant sur le bouton bleu en bas de la page. Les données seront téléchargées dans un fichier JSON `zonedaterrissage.json`que vous pouvez consulter.\n",
    "\n",
    "**Opérations possibles**\n",
    "\n",
    "Le programme permet de réaliser les opérations suivantes :\n",
    "\n",
    "* Identification de l’auteur de la publication => donnée de base (présent dans `zonedaterrissage.json`)\n",
    "* Extraction de la liste de hashtags de la publication => donnée de base (présent dans `zonedaterrissage.json`)\n",
    "* Extraction de la liste des utilisateurs mentionnés dans la publication => donnée de base (présent dans `zonedaterrissage.json`)\n",
    "* Analyse de sentiment de la publication (positif, négatif, neutre) (utilisation de la librairie TextBlob) => donnée de base (présent dans `zonedaterrissage.json`)\n",
    "* Identification du/des topic(s) de la publication => donnée de base (présent dans `zonedaterrissage.json`)\n",
    "\n",
    "* Top K hashtags (k est un paramètre passé par l’utilisateur)\n",
    "* Top K utilisateurs\n",
    "* Top K utilisateurs mentionnés\n",
    "* Top K topics\n",
    "* Carte du nombre de publications par pays\n",
    "* Le nombre de publications par utilisateur\n",
    "* Le nombre de publications par hashtag\n",
    "* L’ensemble de tweets d’un utilisateur spécifique\n",
    "* L’ensemble de tweets mentionnant un utilisateur spécifique\n",
    "* Les utilisateurs mentionnant un hashtag spécifique\n",
    "* Les utilisateurs mentionnés par un utilisateur spécifique\n",
    "\n",
    "## Exécution du programme\n",
    "\n",
    "Pour exécuter le programme, il faut lancer la cellule en bas du Jupyter Notebook `README.ipynb` avec Python 3.11. Il faut aussi installer les modules nécessaires au bon fonctionnement du programme qui sont listés dans le fichier `requirements.txt`.\n",
    "\n",
    "## Diagramme décrivant l'architecture du programme\n",
    "\n",
    "![Diagramme](diagramme.png)\n",
    "\n",
    "## Références\n",
    "\n",
    "[https://www.gradio.app/](https://www.gradio.app/) : Gradio est une librairie qui permet de créer des interfaces graphiques."
   ],
   "metadata": {
    "collapsed": false
   },
   "id": "5e504d5251bedc17"
  },
  {
   "cell_type": "markdown",
   "source": [
    "# Lancement du programme\n",
    "\n",
    "*(Le programme est plus simple à manipuler sur un navigateur web)*"
   ],
   "metadata": {
    "collapsed": false
   },
   "id": "64bc959d6356f421"
  },
  {
   "cell_type": "code",
   "execution_count": null,
   "id": "initial_id",
   "metadata": {
    "collapsed": true
   },
   "outputs": [],
   "source": [
    "from main import main\n",
    "\n",
    "if __name__ == \"__main__\":\n",
    "    main()"
   ]
  }
 ],
 "metadata": {
  "kernelspec": {
   "display_name": "Python 3",
   "language": "python",
   "name": "python3"
  },
  "language_info": {
   "codemirror_mode": {
    "name": "ipython",
    "version": 2
   },
   "file_extension": ".py",
   "mimetype": "text/x-python",
   "name": "python",
   "nbconvert_exporter": "python",
   "pygments_lexer": "ipython2",
   "version": "2.7.6"
  }
 },
 "nbformat": 4,
 "nbformat_minor": 5
}

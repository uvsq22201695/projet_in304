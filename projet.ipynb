{
 "cells": [
  {
   "cell_type": "markdown",
   "source": [
    "# InPoDa (Projet LSIN304)\n",
    "\n",
    "## Groupe de TD : LDD-BI & INTD-04\n",
    "\n",
    "## Étudiants :\n",
    "\n",
    "* Alexandre François: [https://github.com/uvsq22201695](https://github.com/uvsq22201695)\n",
    "* Maël Fajon: [https://github.com/matronyme2](https://github.com/matronyme2)\n",
    "\n",
    "## Dépôt du projet GitHub :\n",
    "\n",
    "[https://github.com/uvsq22201695/projet_in304](https://github.com/uvsq22201695/projet_in304)\n",
    "\n",
    "## Introduction\n",
    "\n",
    "InPoDa est un programme Python qui permet d'analyser des données de tweets. Il permet de charger des données de tweets à partir d'un fichier JSON, de les analyser et d'afficher des statistiques sur ces données. Il permet aussi de télécharger des données de tweets qui ont été analysées par le programme.\n",
    "\n",
    "## Utilisation du programme\n",
    "\n",
    "Le programme se lance avec des données initiales (fichier `aitweets.json`). Il est possible de charger un autre fichier de données en utilisant l'option `Drop file  Here` dans l'interface puis en cliquant sur le bouton `Envoyez`. Chaque fichier sera vérifié avant d'être chargé. Si le fichier n'est pas valide, un message d'erreur s'affichera sous forme de pop-up. Sinon le fichier sera chargé et les données seront affichées dans l'interface avec une fenêtre pop-up de confirmation.\n",
    "\n",
    "Une fois les données chargées, il est possible de voir les statistiques de ces données en cliquant sur les différents boutons de l'interface. Les statistiques s'afficheront dans l'interface. Tout s'actualise en temps réel.\n",
    "\n",
    "De plus vous pouvez télécharger les données analysées en cliquant sur le bouton bleu en bas de la page. Les données seront téléchargées dans un fichier JSON `zonedaterrissage.json`que vous pouvez consulter.\n",
    "\n",
    "**Opérations possibles**\n",
    "\n",
    "Le programme permet de réaliser les opérations suivantes :\n",
    "\n",
    "* Identification de l’auteur de la publication => donnée de base (présent dans `zonedaterrissage.json`)\n",
    "* Extraction de la liste de hashtags de la publication => donnée de base (présent dans `zonedaterrissage.json`)\n",
    "* Extraction de la liste des utilisateurs mentionnés dans la publication => donnée de base (présent dans `zonedaterrissage.json`)\n",
    "* Analyse de sentiment de la publication (positif, négatif, neutre) (utilisation de la librairie TextBlob) => donnée de base (présent dans `zonedaterrissage.json`)\n",
    "* Identification des/du topic(s) de la publication => donnée de base (présent dans `zonedaterrissage.json`)\n",
    "\n",
    "* Top K hashtags (k est un paramètre passé par l’utilisateur)\n",
    "* Top K utilisateurs\n",
    "* Top K utilisateurs mentionnés\n",
    "* Top K topics\n",
    "* Carte du nombre de publications par pays\n",
    "* Le nombre de publications par utilisateur\n",
    "* Le nombre de publications par hashtag\n",
    "* L’ensemble de tweets d’un utilisateur spécifique\n",
    "* L’ensemble de tweets mentionnant un utilisateur spécifique\n",
    "* Les utilisateurs mentionnant un hashtag spécifique\n",
    "* Les utilisateurs mentionnés par un utilisateur spécifique\n",
    "\n",
    "## Exécution du programme\n",
    "\n",
    "Pour exécuter le programme, il faut lancer la cellule en bas du Jupyter Notebook `projet.ipynb` avec Python 3.11. Il faut aussi installer les modules nécessaires au bon fonctionnement du programme qui sont listés dans le fichier `requirements.txt`.\n",
    "\n",
    "## Diagramme décrivant l'architecture du programme\n",
    "\n",
    "![Diagramme](diagramme.png)"
   ],
   "metadata": {
    "collapsed": false
   },
   "id": "5e504d5251bedc17"
  },
  {
   "cell_type": "markdown",
   "source": [
    "# Lancement du programme\n",
    "\n",
    "*(Le programme est plus simple à manipuler sur un navigateur web)*"
   ],
   "metadata": {
    "collapsed": false
   },
   "id": "64bc959d6356f421"
  },
  {
   "cell_type": "code",
   "execution_count": 3,
   "id": "initial_id",
   "metadata": {
    "collapsed": true,
    "ExecuteTime": {
     "end_time": "2023-12-10T21:56:43.177811300Z",
     "start_time": "2023-12-10T21:56:43.102216500Z"
    }
   },
   "outputs": [
    {
     "ename": "KeyError",
     "evalue": "'TweetDate'",
     "output_type": "error",
     "traceback": [
      "\u001B[1;31m---------------------------------------------------------------------------\u001B[0m",
      "\u001B[1;31mKeyError\u001B[0m                                  Traceback (most recent call last)",
      "Cell \u001B[1;32mIn[3], line 4\u001B[0m\n\u001B[0;32m      1\u001B[0m \u001B[38;5;28;01mfrom\u001B[39;00m \u001B[38;5;21;01mmain\u001B[39;00m \u001B[38;5;28;01mimport\u001B[39;00m main\n\u001B[0;32m      3\u001B[0m \u001B[38;5;28;01mif\u001B[39;00m \u001B[38;5;18m__name__\u001B[39m \u001B[38;5;241m==\u001B[39m \u001B[38;5;124m\"\u001B[39m\u001B[38;5;124m__main__\u001B[39m\u001B[38;5;124m\"\u001B[39m:\n\u001B[1;32m----> 4\u001B[0m     \u001B[43mmain\u001B[49m\u001B[43m(\u001B[49m\u001B[43m)\u001B[49m\n",
      "File \u001B[1;32m~\\PycharmProjects\\projet_in304\\main.py:17\u001B[0m, in \u001B[0;36mmain\u001B[1;34m()\u001B[0m\n\u001B[0;32m     14\u001B[0m \u001B[38;5;28;01mif\u001B[39;00m \u001B[38;5;129;01mnot\u001B[39;00m check(data):\n\u001B[0;32m     15\u001B[0m     \u001B[38;5;28;01mreturn\u001B[39;00m \u001B[38;5;124m\"\u001B[39m\u001B[38;5;124mLes données d\u001B[39m\u001B[38;5;124m'\u001B[39m\u001B[38;5;124minitialisation ne sont pas valides\u001B[39m\u001B[38;5;124m\"\u001B[39m\n\u001B[1;32m---> 17\u001B[0m tweets \u001B[38;5;241m=\u001B[39m \u001B[43minitialize\u001B[49m\u001B[43m(\u001B[49m\u001B[43mdata\u001B[49m\u001B[43m)\u001B[49m  \u001B[38;5;66;03m# On initialise les données des tweets\u001B[39;00m\n\u001B[0;32m     19\u001B[0m \u001B[38;5;66;03m# On crée l'interface graphique\u001B[39;00m\n\u001B[0;32m     20\u001B[0m make_model(tweets)\n",
      "File \u001B[1;32m~\\PycharmProjects\\projet_in304\\inits.py:82\u001B[0m, in \u001B[0;36minitialize\u001B[1;34m(data)\u001B[0m\n\u001B[0;32m     80\u001B[0m \u001B[38;5;66;03m# On parcourt chaque tweet\u001B[39;00m\n\u001B[0;32m     81\u001B[0m \u001B[38;5;28;01mfor\u001B[39;00m tweet_data \u001B[38;5;129;01min\u001B[39;00m data:\n\u001B[1;32m---> 82\u001B[0m     tweet \u001B[38;5;241m=\u001B[39m \u001B[43mTweet\u001B[49m\u001B[43m(\u001B[49m\u001B[43mtweet_data\u001B[49m\u001B[43m)\u001B[49m  \u001B[38;5;66;03m# On crée un objet Tweet\u001B[39;00m\n\u001B[0;32m     83\u001B[0m     tweet\u001B[38;5;241m.\u001B[39mfind_topics(topics)\n\u001B[0;32m     84\u001B[0m     tweet\u001B[38;5;241m.\u001B[39mextract_entities()\n",
      "File \u001B[1;32m~\\PycharmProjects\\projet_in304\\tweets.py:54\u001B[0m, in \u001B[0;36mTweet.__init__\u001B[1;34m(self, tweet_data)\u001B[0m\n\u001B[0;32m     52\u001B[0m \u001B[38;5;28mself\u001B[39m\u001B[38;5;241m.\u001B[39mid \u001B[38;5;241m=\u001B[39m tweet_data[\u001B[38;5;124m\"\u001B[39m\u001B[38;5;124mid\u001B[39m\u001B[38;5;124m\"\u001B[39m]\n\u001B[0;32m     53\u001B[0m \u001B[38;5;28mself\u001B[39m\u001B[38;5;241m.\u001B[39muser \u001B[38;5;241m=\u001B[39m chose_username() \u001B[38;5;28;01mif\u001B[39;00m \u001B[38;5;124m\"\u001B[39m\u001B[38;5;124mAuthorName\u001B[39m\u001B[38;5;124m\"\u001B[39m \u001B[38;5;129;01mnot\u001B[39;00m \u001B[38;5;129;01min\u001B[39;00m tweet_data \u001B[38;5;28;01melse\u001B[39;00m tweet_data[\u001B[38;5;124m\"\u001B[39m\u001B[38;5;124mAuthorName\u001B[39m\u001B[38;5;124m\"\u001B[39m]\n\u001B[1;32m---> 54\u001B[0m \u001B[38;5;28mself\u001B[39m\u001B[38;5;241m.\u001B[39mdate \u001B[38;5;241m=\u001B[39m \u001B[43mtweet_data\u001B[49m\u001B[43m[\u001B[49m\u001B[38;5;124;43m\"\u001B[39;49m\u001B[38;5;124;43mTweetDate\u001B[39;49m\u001B[38;5;124;43m\"\u001B[39;49m\u001B[43m]\u001B[49m\n\u001B[0;32m     55\u001B[0m \u001B[38;5;28mself\u001B[39m\u001B[38;5;241m.\u001B[39mlocation \u001B[38;5;241m=\u001B[39m tweet_data[\u001B[38;5;124m\"\u001B[39m\u001B[38;5;124mAuthorLocation\u001B[39m\u001B[38;5;124m\"\u001B[39m]\n\u001B[0;32m     56\u001B[0m \u001B[38;5;28mself\u001B[39m\u001B[38;5;241m.\u001B[39mtext \u001B[38;5;241m=\u001B[39m tweet_data[\u001B[38;5;124m\"\u001B[39m\u001B[38;5;124mTweetText\u001B[39m\u001B[38;5;124m\"\u001B[39m]\n",
      "\u001B[1;31mKeyError\u001B[0m: 'TweetDate'"
     ]
    }
   ],
   "source": [
    "from main import main\n",
    "\n",
    "if __name__ == \"__main__\":\n",
    "    main()"
   ]
  }
 ],
 "metadata": {
  "kernelspec": {
   "display_name": "Python 3",
   "language": "python",
   "name": "python3"
  },
  "language_info": {
   "codemirror_mode": {
    "name": "ipython",
    "version": 2
   },
   "file_extension": ".py",
   "mimetype": "text/x-python",
   "name": "python",
   "nbconvert_exporter": "python",
   "pygments_lexer": "ipython2",
   "version": "2.7.6"
  }
 },
 "nbformat": 4,
 "nbformat_minor": 5
}
